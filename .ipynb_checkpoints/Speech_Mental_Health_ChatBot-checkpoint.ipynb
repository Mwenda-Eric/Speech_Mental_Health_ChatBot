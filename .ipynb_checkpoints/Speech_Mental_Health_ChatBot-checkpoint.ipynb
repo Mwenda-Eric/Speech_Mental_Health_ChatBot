{
 "cells": [
  {
   "cell_type": "code",
   "id": "165cc9b9-8f99-485d-b710-dd7288ca5bff",
   "metadata": {
    "ExecuteTime": {
     "end_time": "2024-06-13T15:19:07.039861Z",
     "start_time": "2024-06-13T15:19:06.275138Z"
    }
   },
   "source": [
    "import sounddevice as sd\n",
    "import wavio\n",
    "import speech_recognition as sr\n",
    "import openai\n",
    "import pyttsx3\n",
    "import time\n",
    "print(\"Imported Successfully\")"
   ],
   "outputs": [
    {
     "name": "stdout",
     "output_type": "stream",
     "text": [
      "Imported Successfully\n"
     ]
    }
   ],
   "execution_count": 1
  },
  {
   "cell_type": "code",
   "id": "5dbc9314-f329-43ef-a418-0d16e2c7123a",
   "metadata": {
    "ExecuteTime": {
     "end_time": "2024-06-13T14:46:22.547386Z",
     "start_time": "2024-06-13T14:46:22.516145Z"
    }
   },
   "source": [
    "openai.api_key = \"sk-proj-IekqBBzHEAuAg44yLmIrT3BlbkFJ9ghwTd1yJVqZgNOWTxQ2\"\n",
    "print(\"Key Setup\")"
   ],
   "outputs": [
    {
     "name": "stdout",
     "output_type": "stream",
     "text": [
      "Key Setup\n"
     ]
    }
   ],
   "execution_count": 2
  },
  {
   "metadata": {
    "ExecuteTime": {
     "end_time": "2024-06-13T14:48:22.806719Z",
     "start_time": "2024-06-13T14:48:22.775477Z"
    }
   },
   "cell_type": "code",
   "source": "print(sd.query_devices())\n",
   "id": "d5a3c0eb20ffa317",
   "outputs": [
    {
     "name": "stdout",
     "output_type": "stream",
     "text": [
      "   0 Microsoft Sound Mapper - Input, MME (2 in, 0 out)\n",
      ">  1 Microphone (Conexant SmartAudio, MME (2 in, 0 out)\n",
      "   2 Microsoft Sound Mapper - Output, MME (0 in, 2 out)\n",
      "<  3 Speakers (Conexant SmartAudio H, MME (0 in, 2 out)\n",
      "   4 Primary Sound Capture Driver, Windows DirectSound (2 in, 0 out)\n",
      "   5 Microphone (Conexant SmartAudio HD), Windows DirectSound (2 in, 0 out)\n",
      "   6 Primary Sound Driver, Windows DirectSound (0 in, 2 out)\n",
      "   7 Speakers (Conexant SmartAudio HD), Windows DirectSound (0 in, 2 out)\n",
      "   8 Speakers (Conexant SmartAudio HD), Windows WASAPI (0 in, 2 out)\n",
      "   9 Microphone (Conexant SmartAudio HD), Windows WASAPI (2 in, 0 out)\n",
      "  10 Output (@System32\\drivers\\bthhfenum.sys,#4;%1 Hands-Free HF Audio%0\r\n",
      ";(iPhone)), Windows WDM-KS (0 in, 1 out)\n",
      "  11 Input (@System32\\drivers\\bthhfenum.sys,#4;%1 Hands-Free HF Audio%0\r\n",
      ";(iPhone)), Windows WDM-KS (1 in, 0 out)\n",
      "  12 Output (@System32\\drivers\\bthhfenum.sys,#4;%1 Hands-Free HF Audio%0\r\n",
      ";(Adrian's A50)), Windows WDM-KS (0 in, 1 out)\n",
      "  13 Input (@System32\\drivers\\bthhfenum.sys,#4;%1 Hands-Free HF Audio%0\r\n",
      ";(Adrian's A50)), Windows WDM-KS (1 in, 0 out)\n",
      "  14 Headphones (), Windows WDM-KS (0 in, 2 out)\n",
      "  15 Headphones (), Windows WDM-KS (0 in, 2 out)\n",
      "  16 Telephone (), Windows WDM-KS (0 in, 2 out)\n",
      "  17 Speakers (Conexant HD Audio output), Windows WDM-KS (0 in, 2 out)\n",
      "  18 Microphone (Conexant HD Audio capture), Windows WDM-KS (2 in, 0 out)\n",
      "  19 Headset (@System32\\drivers\\bthhfenum.sys,#2;%1 Hands-Free%0\r\n",
      ";(I11-TWS)), Windows WDM-KS (0 in, 1 out)\n",
      "  20 Headset (@System32\\drivers\\bthhfenum.sys,#2;%1 Hands-Free%0\r\n",
      ";(I11-TWS)), Windows WDM-KS (1 in, 0 out)\n",
      "  21 Input (), Windows WDM-KS (2 in, 0 out)\n",
      "  22 Headphones (), Windows WDM-KS (0 in, 2 out)\n",
      "  23 Headset (@System32\\drivers\\bthhfenum.sys,#2;%1 Hands-Free%0\r\n",
      ";(oraimo Theater 2)), Windows WDM-KS (0 in, 1 out)\n",
      "  24 Headset (@System32\\drivers\\bthhfenum.sys,#2;%1 Hands-Free%0\r\n",
      ";(oraimo Theater 2)), Windows WDM-KS (1 in, 0 out)\n",
      "  25 Input (), Windows WDM-KS (2 in, 0 out)\n",
      "  26 Output (@System32\\drivers\\bthhfenum.sys,#4;%1 Hands-Free HF Audio%0\r\n",
      ";(X-TIGI_TG3308)), Windows WDM-KS (0 in, 1 out)\n",
      "  27 Input (@System32\\drivers\\bthhfenum.sys,#4;%1 Hands-Free HF Audio%0\r\n",
      ";(X-TIGI_TG3308)), Windows WDM-KS (1 in, 0 out)\n"
     ]
    }
   ],
   "execution_count": 4
  },
  {
   "cell_type": "code",
   "id": "b7740d3e-9330-4ad5-b11d-bbd17167c0af",
   "metadata": {
    "ExecuteTime": {
     "end_time": "2024-06-13T14:48:29.338846Z",
     "start_time": "2024-06-13T14:48:29.307605Z"
    }
   },
   "source": [
    "def record_audio(filename, record_seconds=10, rate=44100, device=0):\n",
    "    \"\"\"\n",
    "    Records audio from the microphone and saves it to a WAV file.\n",
    "    \"\"\"\n",
    "    print(\"Recording...\")\n",
    "    myrecording = sd.rec(int(record_seconds * rate), samplerate=rate, channels=1, device=device)\n",
    "    sd.wait()  # Wait until recording is finished\n",
    "    print(\"Finished recording.\")\n",
    "    wavio.write(filename, myrecording, rate, sampwidth=2)\n",
    "\n",
    "def transcribe_audio(filename):\n",
    "    \"\"\"\n",
    "    Transcribes the given audio file using Google's speech recognition.\n",
    "    \"\"\"\n",
    "    recognizer = sr.Recognizer()\n",
    "    audio_file = sr.AudioFile(filename)\n",
    "\n",
    "    with audio_file as source:\n",
    "        audio_data = recognizer.record(source)\n",
    "\n",
    "    try:\n",
    "        text = recognizer.recognize_google(audio_data)\n",
    "        print(\"Transcription: \" + text)\n",
    "        return text\n",
    "    except sr.UnknownValueError:\n",
    "        print(\"Google Speech Recognition could not understand the audio\")\n",
    "        return None\n",
    "    except sr.RequestError as e:\n",
    "        print(f\"Could not request results from Google Speech Recognition service; {e}\")\n",
    "        return None\n",
    "\n",
    "def query_chatgpt(prompt):\n",
    "    \"\"\"\n",
    "    Queries the OpenAI ChatGPT API with the provided prompt.\n",
    "    \"\"\"\n",
    "    response = openai.Completion.create(\n",
    "        engine=\"gpt-3.5-turbo-instruct\",  # or \"text-davinci-003\" based on your available engines\n",
    "        prompt=prompt,\n",
    "        max_tokens=1500\n",
    "    )\n",
    "    message = response.choices[0].text.strip()\n",
    "    print(\"ChatGPT Response: \" + message)\n",
    "    return message\n",
    "\n",
    "def speak_text(text):\n",
    "    \"\"\"\n",
    "    Uses pyttsx3 to convert text to speech.\n",
    "    \"\"\"\n",
    "    engine = pyttsx3.init()\n",
    "    engine.say(text)\n",
    "    engine.runAndWait()\n"
   ],
   "outputs": [],
   "execution_count": 5
  },
  {
   "cell_type": "code",
   "id": "4e83137b-0ada-45cf-adc0-9e3ec0988f4b",
   "metadata": {
    "ExecuteTime": {
     "end_time": "2024-06-13T14:55:40.742338Z",
     "start_time": "2024-06-13T14:48:31.775657Z"
    }
   },
   "source": [
    "def main():\n",
    "    device_id = 0  # Replace with the appropriate device ID from your list\n",
    "    \n",
    "    while True:\n",
    "        # Record audio from the microphone\n",
    "        filename = \"output.wav\"\n",
    "        record_audio(filename, record_seconds=10, device=device_id)\n",
    "        \n",
    "        # Transcribe the recorded audio\n",
    "        text = transcribe_audio(filename)\n",
    "        \n",
    "        if text:\n",
    "            # Check for exit condition\n",
    "            if text.lower() in [\"stop\", \"exit\", \"quit\"]:\n",
    "                print(\"Exiting the conversation.\")\n",
    "                break\n",
    "            \n",
    "            # Query ChatGPT API\n",
    "            response = query_chatgpt(text)\n",
    "            \n",
    "            # Speak out the response\n",
    "            speak_text(response)\n",
    "        \n",
    "        # Wait a bit before the next iteration\n",
    "        time.sleep(2)\n",
    "\n",
    "if __name__ == \"__main__\":\n",
    "    main()\n"
   ],
   "outputs": [
    {
     "name": "stdout",
     "output_type": "stream",
     "text": [
      "Recording...\n",
      "Finished recording.\n",
      "Transcription: hi my name is Eric I want you to help me out with mental issues that I am facing\n",
      "ChatGPT Response: Hi Eric, I'm here to listen and help in any way I can. Can you please share more about the mental issues you are facing? It could be helpful to talk about what you're experiencing and what you're hoping to achieve through getting help.\n",
      "Recording...\n",
      "Finished recording.\n",
      "Google Speech Recognition could not understand the audio\n",
      "Recording...\n",
      "Finished recording.\n",
      "Google Speech Recognition could not understand the audio\n",
      "Recording...\n",
      "Finished recording.\n",
      "Google Speech Recognition could not understand the audio\n",
      "Recording...\n",
      "Finished recording.\n",
      "Google Speech Recognition could not understand the audio\n",
      "Recording...\n",
      "Finished recording.\n",
      "Google Speech Recognition could not understand the audio\n",
      "Recording...\n",
      "Finished recording.\n",
      "Transcription: please help me I am using problem with my friends\n",
      "ChatGPT Response: I'm sorry to hear that you are having problems with your friends. It can be difficult and frustrating when friendships become challenging. Here are some steps you can take to try and resolve the issues with your friends:\n",
      "\n",
      "1. Communicate openly and honestly: It's important to talk to your friends and express how you are feeling. Be honest and use \"I\" statements to avoid accusatory language. Let them know how their behavior is affecting you.\n",
      "\n",
      "2. Listen to their perspective: Communication is a two-way street. Listen to what your friends have to say and try to understand their feelings and perspective. This can help you see the situation from their point of view and find common ground.\n",
      "\n",
      "3. Identify the problem: Work together to identify the root cause of the problem. Is it a misunderstanding, jealousy, or a difference in opinions? Understanding the underlying issue can help find a solution.\n",
      "\n",
      "4. Seek a mediator: If you are having trouble communicating and resolving the issues on your own, consider reaching out to a trusted mutual friend or a counselor to help mediate the situation.\n",
      "\n",
      "5. Take responsibility: Reflect on your own actions and see if you might have contributed to the problem. Taking responsibility for your actions and apologizing can help mend the friendship.\n",
      "\n",
      "6. Set boundaries: If the issue is ongoing and you are feeling emotionally drained, it's important to set boundaries with your friends. Let them know what behaviors are not acceptable to you.\n",
      "\n",
      "7. Know when to let go: If the friendship is causing you more harm than good and the issues cannot be resolved, it's okay to walk away. Sometimes it's best to let go of toxic relationships.\n",
      "\n",
      "Remember, friendships can go through ups and downs, and it's important to communicate and work through the challenges together. However, it's also important to prioritize your own well-being and know when it's best to distance yourself from unhealthy relationships. Take care of yourself and surround yourself with people who uplift and support you.\n",
      "Recording...\n",
      "Finished recording.\n",
      "Google Speech Recognition could not understand the audio\n",
      "Recording...\n",
      "Finished recording.\n",
      "Google Speech Recognition could not understand the audio\n",
      "Recording...\n",
      "Finished recording.\n",
      "Google Speech Recognition could not understand the audio\n",
      "Recording...\n",
      "Finished recording.\n",
      "Google Speech Recognition could not understand the audio\n",
      "Recording...\n",
      "Finished recording.\n",
      "Google Speech Recognition could not understand the audio\n",
      "Recording...\n",
      "Finished recording.\n",
      "Google Speech Recognition could not understand the audio\n",
      "Recording...\n",
      "Finished recording.\n",
      "Google Speech Recognition could not understand the audio\n",
      "Recording...\n",
      "Finished recording.\n",
      "Google Speech Recognition could not understand the audio\n",
      "Recording...\n",
      "Finished recording.\n",
      "Google Speech Recognition could not understand the audio\n",
      "Recording...\n",
      "Finished recording.\n",
      "Google Speech Recognition could not understand the audio\n",
      "Recording...\n",
      "Finished recording.\n",
      "Google Speech Recognition could not understand the audio\n",
      "Recording...\n",
      "Finished recording.\n",
      "Google Speech Recognition could not understand the audio\n",
      "Recording...\n"
     ]
    },
    {
     "ename": "KeyboardInterrupt",
     "evalue": "",
     "output_type": "error",
     "traceback": [
      "\u001B[1;31m---------------------------------------------------------------------------\u001B[0m",
      "\u001B[1;31mKeyboardInterrupt\u001B[0m                         Traceback (most recent call last)",
      "Cell \u001B[1;32mIn[6], line 28\u001B[0m\n\u001B[0;32m     25\u001B[0m         time\u001B[38;5;241m.\u001B[39msleep(\u001B[38;5;241m2\u001B[39m)\n\u001B[0;32m     27\u001B[0m \u001B[38;5;28;01mif\u001B[39;00m \u001B[38;5;18m__name__\u001B[39m \u001B[38;5;241m==\u001B[39m \u001B[38;5;124m\"\u001B[39m\u001B[38;5;124m__main__\u001B[39m\u001B[38;5;124m\"\u001B[39m:\n\u001B[1;32m---> 28\u001B[0m     \u001B[43mmain\u001B[49m\u001B[43m(\u001B[49m\u001B[43m)\u001B[49m\n",
      "Cell \u001B[1;32mIn[6], line 7\u001B[0m, in \u001B[0;36mmain\u001B[1;34m()\u001B[0m\n\u001B[0;32m      4\u001B[0m \u001B[38;5;28;01mwhile\u001B[39;00m \u001B[38;5;28;01mTrue\u001B[39;00m:\n\u001B[0;32m      5\u001B[0m     \u001B[38;5;66;03m# Record audio from the microphone\u001B[39;00m\n\u001B[0;32m      6\u001B[0m     filename \u001B[38;5;241m=\u001B[39m \u001B[38;5;124m\"\u001B[39m\u001B[38;5;124moutput.wav\u001B[39m\u001B[38;5;124m\"\u001B[39m\n\u001B[1;32m----> 7\u001B[0m     \u001B[43mrecord_audio\u001B[49m\u001B[43m(\u001B[49m\u001B[43mfilename\u001B[49m\u001B[43m,\u001B[49m\u001B[43m \u001B[49m\u001B[43mrecord_seconds\u001B[49m\u001B[38;5;241;43m=\u001B[39;49m\u001B[38;5;241;43m10\u001B[39;49m\u001B[43m,\u001B[49m\u001B[43m \u001B[49m\u001B[43mdevice\u001B[49m\u001B[38;5;241;43m=\u001B[39;49m\u001B[43mdevice_id\u001B[49m\u001B[43m)\u001B[49m\n\u001B[0;32m      9\u001B[0m     \u001B[38;5;66;03m# Transcribe the recorded audio\u001B[39;00m\n\u001B[0;32m     10\u001B[0m     text \u001B[38;5;241m=\u001B[39m transcribe_audio(filename)\n",
      "Cell \u001B[1;32mIn[5], line 7\u001B[0m, in \u001B[0;36mrecord_audio\u001B[1;34m(filename, record_seconds, rate, device)\u001B[0m\n\u001B[0;32m      5\u001B[0m \u001B[38;5;28mprint\u001B[39m(\u001B[38;5;124m\"\u001B[39m\u001B[38;5;124mRecording...\u001B[39m\u001B[38;5;124m\"\u001B[39m)\n\u001B[0;32m      6\u001B[0m myrecording \u001B[38;5;241m=\u001B[39m sd\u001B[38;5;241m.\u001B[39mrec(\u001B[38;5;28mint\u001B[39m(record_seconds \u001B[38;5;241m*\u001B[39m rate), samplerate\u001B[38;5;241m=\u001B[39mrate, channels\u001B[38;5;241m=\u001B[39m\u001B[38;5;241m1\u001B[39m, device\u001B[38;5;241m=\u001B[39mdevice)\n\u001B[1;32m----> 7\u001B[0m \u001B[43msd\u001B[49m\u001B[38;5;241;43m.\u001B[39;49m\u001B[43mwait\u001B[49m\u001B[43m(\u001B[49m\u001B[43m)\u001B[49m  \u001B[38;5;66;03m# Wait until recording is finished\u001B[39;00m\n\u001B[0;32m      8\u001B[0m \u001B[38;5;28mprint\u001B[39m(\u001B[38;5;124m\"\u001B[39m\u001B[38;5;124mFinished recording.\u001B[39m\u001B[38;5;124m\"\u001B[39m)\n\u001B[0;32m      9\u001B[0m wavio\u001B[38;5;241m.\u001B[39mwrite(filename, myrecording, rate, sampwidth\u001B[38;5;241m=\u001B[39m\u001B[38;5;241m2\u001B[39m)\n",
      "File \u001B[1;32mc:\\python39\\lib\\site-packages\\sounddevice.py:395\u001B[0m, in \u001B[0;36mwait\u001B[1;34m(ignore_errors)\u001B[0m\n\u001B[0;32m    379\u001B[0m \u001B[38;5;250m\u001B[39m\u001B[38;5;124;03m\"\"\"Wait for `play()`/`rec()`/`playrec()` to be finished.\u001B[39;00m\n\u001B[0;32m    380\u001B[0m \n\u001B[0;32m    381\u001B[0m \u001B[38;5;124;03mPlayback/recording can be stopped with a `KeyboardInterrupt`.\u001B[39;00m\n\u001B[1;32m   (...)\u001B[0m\n\u001B[0;32m    392\u001B[0m \n\u001B[0;32m    393\u001B[0m \u001B[38;5;124;03m\"\"\"\u001B[39;00m\n\u001B[0;32m    394\u001B[0m \u001B[38;5;28;01mif\u001B[39;00m _last_callback:\n\u001B[1;32m--> 395\u001B[0m     \u001B[38;5;28;01mreturn\u001B[39;00m \u001B[43m_last_callback\u001B[49m\u001B[38;5;241;43m.\u001B[39;49m\u001B[43mwait\u001B[49m\u001B[43m(\u001B[49m\u001B[43mignore_errors\u001B[49m\u001B[43m)\u001B[49m\n",
      "File \u001B[1;32mc:\\python39\\lib\\site-packages\\sounddevice.py:2624\u001B[0m, in \u001B[0;36m_CallbackContext.wait\u001B[1;34m(self, ignore_errors)\u001B[0m\n\u001B[0;32m   2618\u001B[0m \u001B[38;5;250m\u001B[39m\u001B[38;5;124;03m\"\"\"Wait for finished_callback.\u001B[39;00m\n\u001B[0;32m   2619\u001B[0m \n\u001B[0;32m   2620\u001B[0m \u001B[38;5;124;03mCan be interrupted with a KeyboardInterrupt.\u001B[39;00m\n\u001B[0;32m   2621\u001B[0m \n\u001B[0;32m   2622\u001B[0m \u001B[38;5;124;03m\"\"\"\u001B[39;00m\n\u001B[0;32m   2623\u001B[0m \u001B[38;5;28;01mtry\u001B[39;00m:\n\u001B[1;32m-> 2624\u001B[0m     \u001B[38;5;28;43mself\u001B[39;49m\u001B[38;5;241;43m.\u001B[39;49m\u001B[43mevent\u001B[49m\u001B[38;5;241;43m.\u001B[39;49m\u001B[43mwait\u001B[49m\u001B[43m(\u001B[49m\u001B[43m)\u001B[49m\n\u001B[0;32m   2625\u001B[0m \u001B[38;5;28;01mfinally\u001B[39;00m:\n\u001B[0;32m   2626\u001B[0m     \u001B[38;5;28mself\u001B[39m\u001B[38;5;241m.\u001B[39mstream\u001B[38;5;241m.\u001B[39mclose(ignore_errors)\n",
      "File \u001B[1;32mc:\\python39\\lib\\threading.py:574\u001B[0m, in \u001B[0;36mEvent.wait\u001B[1;34m(self, timeout)\u001B[0m\n\u001B[0;32m    572\u001B[0m signaled \u001B[38;5;241m=\u001B[39m \u001B[38;5;28mself\u001B[39m\u001B[38;5;241m.\u001B[39m_flag\n\u001B[0;32m    573\u001B[0m \u001B[38;5;28;01mif\u001B[39;00m \u001B[38;5;129;01mnot\u001B[39;00m signaled:\n\u001B[1;32m--> 574\u001B[0m     signaled \u001B[38;5;241m=\u001B[39m \u001B[38;5;28;43mself\u001B[39;49m\u001B[38;5;241;43m.\u001B[39;49m\u001B[43m_cond\u001B[49m\u001B[38;5;241;43m.\u001B[39;49m\u001B[43mwait\u001B[49m\u001B[43m(\u001B[49m\u001B[43mtimeout\u001B[49m\u001B[43m)\u001B[49m\n\u001B[0;32m    575\u001B[0m \u001B[38;5;28;01mreturn\u001B[39;00m signaled\n",
      "File \u001B[1;32mc:\\python39\\lib\\threading.py:312\u001B[0m, in \u001B[0;36mCondition.wait\u001B[1;34m(self, timeout)\u001B[0m\n\u001B[0;32m    310\u001B[0m \u001B[38;5;28;01mtry\u001B[39;00m:    \u001B[38;5;66;03m# restore state no matter what (e.g., KeyboardInterrupt)\u001B[39;00m\n\u001B[0;32m    311\u001B[0m     \u001B[38;5;28;01mif\u001B[39;00m timeout \u001B[38;5;129;01mis\u001B[39;00m \u001B[38;5;28;01mNone\u001B[39;00m:\n\u001B[1;32m--> 312\u001B[0m         \u001B[43mwaiter\u001B[49m\u001B[38;5;241;43m.\u001B[39;49m\u001B[43macquire\u001B[49m\u001B[43m(\u001B[49m\u001B[43m)\u001B[49m\n\u001B[0;32m    313\u001B[0m         gotit \u001B[38;5;241m=\u001B[39m \u001B[38;5;28;01mTrue\u001B[39;00m\n\u001B[0;32m    314\u001B[0m     \u001B[38;5;28;01melse\u001B[39;00m:\n",
      "\u001B[1;31mKeyboardInterrupt\u001B[0m: "
     ]
    }
   ],
   "execution_count": 6
  },
  {
   "cell_type": "code",
   "id": "54fd8b38-bae0-46e2-804d-34423f8883b2",
   "metadata": {},
   "source": [],
   "outputs": [],
   "execution_count": null
  }
 ],
 "metadata": {
  "kernelspec": {
   "display_name": "Python 3 (ipykernel)",
   "language": "python",
   "name": "python3"
  },
  "language_info": {
   "codemirror_mode": {
    "name": "ipython",
    "version": 3
   },
   "file_extension": ".py",
   "mimetype": "text/x-python",
   "name": "python",
   "nbconvert_exporter": "python",
   "pygments_lexer": "ipython3",
   "version": "3.11.7"
  }
 },
 "nbformat": 4,
 "nbformat_minor": 5
}
