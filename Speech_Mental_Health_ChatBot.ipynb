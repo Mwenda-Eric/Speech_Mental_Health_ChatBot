{
 "cells": [
  {
   "cell_type": "code",
   "id": "165cc9b9-8f99-485d-b710-dd7288ca5bff",
   "metadata": {
    "ExecuteTime": {
     "end_time": "2024-06-12T20:03:00.181954Z",
     "start_time": "2024-06-12T20:02:59.543476Z"
    }
   },
   "source": [
    "import sounddevice as sd\n",
    "import wavio\n",
    "import speech_recognition as sr\n",
    "import openai\n",
    "import pyttsx3\n",
    "import time\n",
    "print(\"Imported Successfully\")"
   ],
   "outputs": [
    {
     "name": "stdout",
     "output_type": "stream",
     "text": [
      "Imported Successfully\n"
     ]
    }
   ],
   "execution_count": 1
  },
  {
   "cell_type": "code",
   "id": "5dbc9314-f329-43ef-a418-0d16e2c7123a",
   "metadata": {
    "ExecuteTime": {
     "end_time": "2024-06-12T20:03:20.488215Z",
     "start_time": "2024-06-12T20:03:20.463048Z"
    }
   },
   "source": [
    "openai.api_key = \"sk-proj-IekqBBzHEAuAg44yLmIrT3BlbkFJ9ghwTd1yJVqZgNOWTxQ2\"\n",
    "print(\"Key Setup\")"
   ],
   "outputs": [
    {
     "name": "stdout",
     "output_type": "stream",
     "text": [
      "Key Setup\n"
     ]
    }
   ],
   "execution_count": 2
  },
  {
   "metadata": {
    "ExecuteTime": {
     "end_time": "2024-06-12T20:08:30.971894Z",
     "start_time": "2024-06-12T20:08:30.951259Z"
    }
   },
   "cell_type": "code",
   "source": "print(sd.query_devices())\n",
   "id": "d5a3c0eb20ffa317",
   "outputs": [
    {
     "name": "stdout",
     "output_type": "stream",
     "text": [
      "   0 Microsoft Sound Mapper - Input, MME (2 in, 0 out)\n",
      ">  1 Microphone (Conexant SmartAudio, MME (2 in, 0 out)\n",
      "   2 Headset (oraimo Theater 2), MME (2 in, 0 out)\n",
      "   3 Microsoft Sound Mapper - Output, MME (0 in, 2 out)\n",
      "<  4 Headphones (oraimo Theater 2), MME (0 in, 2 out)\n",
      "   5 Speakers (Conexant SmartAudio H, MME (0 in, 2 out)\n",
      "   6 Primary Sound Capture Driver, Windows DirectSound (2 in, 0 out)\n",
      "   7 Microphone (Conexant SmartAudio HD), Windows DirectSound (2 in, 0 out)\n",
      "   8 Headset (oraimo Theater 2), Windows DirectSound (2 in, 0 out)\n",
      "   9 Primary Sound Driver, Windows DirectSound (0 in, 2 out)\n",
      "  10 Headphones (oraimo Theater 2), Windows DirectSound (0 in, 2 out)\n",
      "  11 Speakers (Conexant SmartAudio HD), Windows DirectSound (0 in, 2 out)\n",
      "  12 Headphones (oraimo Theater 2), Windows WASAPI (0 in, 2 out)\n",
      "  13 Speakers (Conexant SmartAudio HD), Windows WASAPI (0 in, 2 out)\n",
      "  14 Headset (oraimo Theater 2), Windows WASAPI (1 in, 0 out)\n",
      "  15 Microphone (Conexant SmartAudio HD), Windows WASAPI (2 in, 0 out)\n",
      "  16 Output (@System32\\drivers\\bthhfenum.sys,#4;%1 Hands-Free HF Audio%0\r\n",
      ";(iPhone)), Windows WDM-KS (0 in, 1 out)\n",
      "  17 Input (@System32\\drivers\\bthhfenum.sys,#4;%1 Hands-Free HF Audio%0\r\n",
      ";(iPhone)), Windows WDM-KS (1 in, 0 out)\n",
      "  18 Output (@System32\\drivers\\bthhfenum.sys,#4;%1 Hands-Free HF Audio%0\r\n",
      ";(Adrian's A50)), Windows WDM-KS (0 in, 1 out)\n",
      "  19 Input (@System32\\drivers\\bthhfenum.sys,#4;%1 Hands-Free HF Audio%0\r\n",
      ";(Adrian's A50)), Windows WDM-KS (1 in, 0 out)\n",
      "  20 Headphones (), Windows WDM-KS (0 in, 2 out)\n",
      "  21 Headphones (), Windows WDM-KS (0 in, 2 out)\n",
      "  22 Telephone (), Windows WDM-KS (0 in, 2 out)\n",
      "  23 Speakers (Conexant HD Audio output), Windows WDM-KS (0 in, 2 out)\n",
      "  24 Microphone (Conexant HD Audio capture), Windows WDM-KS (2 in, 0 out)\n",
      "  25 Headset (@System32\\drivers\\bthhfenum.sys,#2;%1 Hands-Free%0\r\n",
      ";(I11-TWS)), Windows WDM-KS (0 in, 1 out)\n",
      "  26 Headset (@System32\\drivers\\bthhfenum.sys,#2;%1 Hands-Free%0\r\n",
      ";(I11-TWS)), Windows WDM-KS (1 in, 0 out)\n",
      "  27 Input (), Windows WDM-KS (2 in, 0 out)\n",
      "  28 Headphones (), Windows WDM-KS (0 in, 2 out)\n",
      "  29 Headset (@System32\\drivers\\bthhfenum.sys,#2;%1 Hands-Free%0\r\n",
      ";(oraimo Theater 2)), Windows WDM-KS (0 in, 1 out)\n",
      "  30 Headset (@System32\\drivers\\bthhfenum.sys,#2;%1 Hands-Free%0\r\n",
      ";(oraimo Theater 2)), Windows WDM-KS (1 in, 0 out)\n",
      "  31 Input (), Windows WDM-KS (2 in, 0 out)\n",
      "  32 Output (@System32\\drivers\\bthhfenum.sys,#4;%1 Hands-Free HF Audio%0\r\n",
      ";(X-TIGI_TG3308)), Windows WDM-KS (0 in, 1 out)\n",
      "  33 Input (@System32\\drivers\\bthhfenum.sys,#4;%1 Hands-Free HF Audio%0\r\n",
      ";(X-TIGI_TG3308)), Windows WDM-KS (1 in, 0 out)\n"
     ]
    }
   ],
   "execution_count": 5
  },
  {
   "cell_type": "code",
   "id": "b7740d3e-9330-4ad5-b11d-bbd17167c0af",
   "metadata": {
    "ExecuteTime": {
     "end_time": "2024-06-12T20:03:35.234871Z",
     "start_time": "2024-06-12T20:03:35.206890Z"
    }
   },
   "source": [
    "def record_audio(filename, record_seconds=10, rate=44100, device=0):\n",
    "    \"\"\"\n",
    "    Records audio from the microphone and saves it to a WAV file.\n",
    "    \"\"\"\n",
    "    print(\"Recording...\")\n",
    "    myrecording = sd.rec(int(record_seconds * rate), samplerate=rate, channels=1, device=device)\n",
    "    sd.wait()  # Wait until recording is finished\n",
    "    print(\"Finished recording.\")\n",
    "    wavio.write(filename, myrecording, rate, sampwidth=2)\n",
    "\n",
    "def transcribe_audio(filename):\n",
    "    \"\"\"\n",
    "    Transcribes the given audio file using Google's speech recognition.\n",
    "    \"\"\"\n",
    "    recognizer = sr.Recognizer()\n",
    "    audio_file = sr.AudioFile(filename)\n",
    "\n",
    "    with audio_file as source:\n",
    "        audio_data = recognizer.record(source)\n",
    "\n",
    "    try:\n",
    "        text = recognizer.recognize_google(audio_data)\n",
    "        print(\"Transcription: \" + text)\n",
    "        return text\n",
    "    except sr.UnknownValueError:\n",
    "        print(\"Google Speech Recognition could not understand the audio\")\n",
    "        return None\n",
    "    except sr.RequestError as e:\n",
    "        print(f\"Could not request results from Google Speech Recognition service; {e}\")\n",
    "        return None\n",
    "\n",
    "def query_chatgpt(prompt):\n",
    "    \"\"\"\n",
    "    Queries the OpenAI ChatGPT API with the provided prompt.\n",
    "    \"\"\"\n",
    "    response = openai.Completion.create(\n",
    "        engine=\"gpt-3.5-turbo-instruct\",  # or \"text-davinci-003\" based on your available engines\n",
    "        prompt=prompt,\n",
    "        max_tokens=1500\n",
    "    )\n",
    "    message = response.choices[0].text.strip()\n",
    "    print(\"ChatGPT Response: \" + message)\n",
    "    return message\n",
    "\n",
    "def speak_text(text):\n",
    "    \"\"\"\n",
    "    Uses pyttsx3 to convert text to speech.\n",
    "    \"\"\"\n",
    "    engine = pyttsx3.init()\n",
    "    engine.say(text)\n",
    "    engine.runAndWait()\n"
   ],
   "outputs": [],
   "execution_count": 3
  },
  {
   "cell_type": "code",
   "id": "4e83137b-0ada-45cf-adc0-9e3ec0988f4b",
   "metadata": {
    "ExecuteTime": {
     "end_time": "2024-06-12T20:06:42.001752Z",
     "start_time": "2024-06-12T20:03:54.212562Z"
    }
   },
   "source": [
    "def main():\n",
    "    device_id = 0  # Replace with the appropriate device ID from your list\n",
    "    \n",
    "    while True:\n",
    "        # Record audio from the microphone\n",
    "        filename = \"output.wav\"\n",
    "        record_audio(filename, record_seconds=10, device=device_id)\n",
    "        \n",
    "        # Transcribe the recorded audio\n",
    "        text = transcribe_audio(filename)\n",
    "        \n",
    "        if text:\n",
    "            # Check for exit condition\n",
    "            if text.lower() in [\"stop\", \"exit\", \"quit\"]:\n",
    "                print(\"Exiting the conversation.\")\n",
    "                break\n",
    "            \n",
    "            # Query ChatGPT API\n",
    "            response = query_chatgpt(text)\n",
    "            \n",
    "            # Speak out the response\n",
    "            speak_text(response)\n",
    "        \n",
    "        # Wait a bit before the next iteration\n",
    "        time.sleep(2)\n",
    "\n",
    "if __name__ == \"__main__\":\n",
    "    main()\n"
   ],
   "outputs": [
    {
     "name": "stdout",
     "output_type": "stream",
     "text": [
      "Recording...\n",
      "Finished recording.\n",
      "Transcription: my name is Eric and I want you to help me out with mental issues\n",
      "ChatGPT Response: Hi Eric, my name is [insert name] and I would be happy to assist you with any mental health concerns you may have. It takes a lot of courage to reach out and ask for help, so I commend you for taking this step. Mental health is an important aspect of overall well-being and it is essential to address any issues we may be facing. Can you tell me a little bit more about what you are struggling with so I can provide more specific support and resources? Remember, you are not alone and there is always hope for improvement and healing. Let's work together towards a healthier and happier you.\n",
      "Recording...\n",
      "Finished recording.\n",
      "Transcription: I'm struggling with my studies and also in time and also friends\n",
      "ChatGPT Response: It can be overwhelming and stressful to balance schoolwork, time management, and maintaining relationships with friends. Here are some tips that may help you:\n",
      "\n",
      "1. Prioritize your studies: School should always come first. Make a list of all your assignments and prioritize them based on their due dates. This will help you stay organized and focused.\n",
      "\n",
      "2. Create a study schedule: Set aside specific times for studying each day. Find a quiet and comfortable place to study and stick to your schedule.\n",
      "\n",
      "3. Seek help when needed: Don't hesitate to reach out to your teachers, tutors, or classmates for help when you are struggling with a particular subject. They can provide you with additional resources and support.\n",
      "\n",
      "4. Improve your time management skills: Create a to-do list each day and set realistic goals for yourself. Learn to say no to distractions and prioritize your tasks.\n",
      "\n",
      "5. Make time for friends: While it's important to focus on your studies, it’s also important to maintain a healthy social life. Make plans with your friends in advance so you can work your studying around them.\n",
      "\n",
      "6. Communicate with your friends: If you are feeling overwhelmed, let your friends know. They will understand and may even offer to help or study with you.\n",
      "\n",
      "7. Take breaks: It’s important to take breaks while studying to avoid burnout. Take a short 5-10 minute break for every hour of studying.\n",
      "\n",
      "Remember to always take care of yourself, physically and mentally. Seek support from your loved ones if you are feeling overwhelmed, and don’t be afraid to reach out for help if you need it. You got this!\n",
      "Recording...\n",
      "Finished recording.\n",
      "Transcription: stop\n",
      "Exiting the conversation.\n"
     ]
    }
   ],
   "execution_count": 4
  },
  {
   "cell_type": "code",
   "id": "54fd8b38-bae0-46e2-804d-34423f8883b2",
   "metadata": {},
   "source": [],
   "outputs": [],
   "execution_count": null
  }
 ],
 "metadata": {
  "kernelspec": {
   "display_name": "Python 3 (ipykernel)",
   "language": "python",
   "name": "python3"
  },
  "language_info": {
   "codemirror_mode": {
    "name": "ipython",
    "version": 3
   },
   "file_extension": ".py",
   "mimetype": "text/x-python",
   "name": "python",
   "nbconvert_exporter": "python",
   "pygments_lexer": "ipython3",
   "version": "3.11.7"
  }
 },
 "nbformat": 4,
 "nbformat_minor": 5
}
