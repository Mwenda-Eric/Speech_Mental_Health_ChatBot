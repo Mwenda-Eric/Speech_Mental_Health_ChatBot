{
 "cells": [
  {
   "cell_type": "code",
   "execution_count": 1,
   "id": "165cc9b9-8f99-485d-b710-dd7288ca5bff",
   "metadata": {
    "ExecuteTime": {
     "end_time": "2024-06-13T15:19:07.039861Z",
     "start_time": "2024-06-13T15:19:06.275138Z"
    }
   },
   "outputs": [
    {
     "name": "stdout",
     "output_type": "stream",
     "text": [
      "Imported Successfully\n"
     ]
    }
   ],
   "source": [
    "import sounddevice as sd\n",
    "import wavio\n",
    "import speech_recognition as sr\n",
    "import openai\n",
    "import pyttsx3\n",
    "import time\n",
    "print(\"Imported Successfully\")"
   ]
  },
  {
   "cell_type": "code",
   "execution_count": 2,
   "id": "5dbc9314-f329-43ef-a418-0d16e2c7123a",
   "metadata": {
    "ExecuteTime": {
     "end_time": "2024-06-13T14:46:22.547386Z",
     "start_time": "2024-06-13T14:46:22.516145Z"
    }
   },
   "outputs": [
    {
     "name": "stdout",
     "output_type": "stream",
     "text": [
      "Key Setup\n"
     ]
    }
   ],
   "source": [
    "openai.api_key = \"sk-proj-IekqBBzHEAuAg44yLmIrT3BlbkFJ9ghwTd1yJVqZgNOWTxQ2\"\n",
    "print(\"Key Setup\")"
   ]
  },
  {
   "cell_type": "code",
   "execution_count": 3,
   "id": "d5a3c0eb20ffa317",
   "metadata": {
    "ExecuteTime": {
     "end_time": "2024-06-13T14:48:22.806719Z",
     "start_time": "2024-06-13T14:48:22.775477Z"
    }
   },
   "outputs": [
    {
     "name": "stdout",
     "output_type": "stream",
     "text": [
      "   0 Microsoft Sound Mapper - Input, MME (2 in, 0 out)\n",
      ">  1 Microphone (Conexant SmartAudio, MME (2 in, 0 out)\n",
      "   2 Microsoft Sound Mapper - Output, MME (0 in, 2 out)\n",
      "<  3 Speakers (Conexant SmartAudio H, MME (0 in, 2 out)\n",
      "   4 Primary Sound Capture Driver, Windows DirectSound (2 in, 0 out)\n",
      "   5 Microphone (Conexant SmartAudio HD), Windows DirectSound (2 in, 0 out)\n",
      "   6 Primary Sound Driver, Windows DirectSound (0 in, 2 out)\n",
      "   7 Speakers (Conexant SmartAudio HD), Windows DirectSound (0 in, 2 out)\n",
      "   8 Speakers (Conexant SmartAudio HD), Windows WASAPI (0 in, 2 out)\n",
      "   9 Microphone (Conexant SmartAudio HD), Windows WASAPI (2 in, 0 out)\n",
      "  10 Output (@System32\\drivers\\bthhfenum.sys,#4;%1 Hands-Free HF Audio%0\n",
      ";(iPhone)), Windows WDM-KS (0 in, 1 out)\n",
      "  11 Input (@System32\\drivers\\bthhfenum.sys,#4;%1 Hands-Free HF Audio%0\n",
      ";(iPhone)), Windows WDM-KS (1 in, 0 out)\n",
      "  12 Output (@System32\\drivers\\bthhfenum.sys,#4;%1 Hands-Free HF Audio%0\n",
      ";(Adrian's A50)), Windows WDM-KS (0 in, 1 out)\n",
      "  13 Input (@System32\\drivers\\bthhfenum.sys,#4;%1 Hands-Free HF Audio%0\n",
      ";(Adrian's A50)), Windows WDM-KS (1 in, 0 out)\n",
      "  14 Headphones (), Windows WDM-KS (0 in, 2 out)\n",
      "  15 Headphones (), Windows WDM-KS (0 in, 2 out)\n",
      "  16 Telephone (), Windows WDM-KS (0 in, 2 out)\n",
      "  17 Speakers (Conexant HD Audio output), Windows WDM-KS (0 in, 2 out)\n",
      "  18 Microphone (Conexant HD Audio capture), Windows WDM-KS (2 in, 0 out)\n",
      "  19 Headset (@System32\\drivers\\bthhfenum.sys,#2;%1 Hands-Free%0\n",
      ";(I11-TWS)), Windows WDM-KS (0 in, 1 out)\n",
      "  20 Headset (@System32\\drivers\\bthhfenum.sys,#2;%1 Hands-Free%0\n",
      ";(I11-TWS)), Windows WDM-KS (1 in, 0 out)\n",
      "  21 Input (), Windows WDM-KS (2 in, 0 out)\n",
      "  22 Headphones (), Windows WDM-KS (0 in, 2 out)\n",
      "  23 Headset (@System32\\drivers\\bthhfenum.sys,#2;%1 Hands-Free%0\n",
      ";(oraimo Theater 2)), Windows WDM-KS (0 in, 1 out)\n",
      "  24 Headset (@System32\\drivers\\bthhfenum.sys,#2;%1 Hands-Free%0\n",
      ";(oraimo Theater 2)), Windows WDM-KS (1 in, 0 out)\n",
      "  25 Input (), Windows WDM-KS (2 in, 0 out)\n",
      "  26 Output (@System32\\drivers\\bthhfenum.sys,#4;%1 Hands-Free HF Audio%0\n",
      ";(X-TIGI_TG3308)), Windows WDM-KS (0 in, 1 out)\n",
      "  27 Input (@System32\\drivers\\bthhfenum.sys,#4;%1 Hands-Free HF Audio%0\n",
      ";(X-TIGI_TG3308)), Windows WDM-KS (1 in, 0 out)\n"
     ]
    }
   ],
   "source": [
    "print(sd.query_devices())\n"
   ]
  },
  {
   "cell_type": "code",
   "execution_count": 4,
   "id": "b7740d3e-9330-4ad5-b11d-bbd17167c0af",
   "metadata": {
    "ExecuteTime": {
     "end_time": "2024-06-13T14:48:29.338846Z",
     "start_time": "2024-06-13T14:48:29.307605Z"
    }
   },
   "outputs": [],
   "source": [
    "def record_audio(filename, record_seconds=10, rate=44100, device=0):\n",
    "    \"\"\"\n",
    "    Records audio from the microphone and saves it to a WAV file.\n",
    "    \"\"\"\n",
    "    print(\"Recording...\")\n",
    "    myrecording = sd.rec(int(record_seconds * rate), samplerate=rate, channels=1, device=device)\n",
    "    sd.wait()  # Wait until recording is finished\n",
    "    print(\"Finished recording.\")\n",
    "    wavio.write(filename, myrecording, rate, sampwidth=2)\n",
    "\n",
    "def transcribe_audio(filename):\n",
    "    \"\"\"\n",
    "    Transcribes the given audio file using Google's speech recognition.\n",
    "    \"\"\"\n",
    "    recognizer = sr.Recognizer()\n",
    "    audio_file = sr.AudioFile(filename)\n",
    "\n",
    "    with audio_file as source:\n",
    "        audio_data = recognizer.record(source)\n",
    "\n",
    "    try:\n",
    "        text = recognizer.recognize_google(audio_data)\n",
    "        print(\"Transcription: \" + text)\n",
    "        return text\n",
    "    except sr.UnknownValueError:\n",
    "        print(\"Google Speech Recognition could not understand the audio\")\n",
    "        return None\n",
    "    except sr.RequestError as e:\n",
    "        print(f\"Could not request results from Google Speech Recognition service; {e}\")\n",
    "        return None\n",
    "\n",
    "def query_chatgpt(prompt):\n",
    "    \"\"\"\n",
    "    Queries the OpenAI ChatGPT API with the provided prompt.\n",
    "    \"\"\"\n",
    "    response = openai.Completion.create(\n",
    "        engine=\"gpt-3.5-turbo-instruct\",  # or \"text-davinci-003\" based on your available engines\n",
    "        prompt=prompt,\n",
    "        max_tokens=1500\n",
    "    )\n",
    "    message = response.choices[0].text.strip()\n",
    "    print(\"ChatGPT Response: \" + message)\n",
    "    return message\n",
    "\n",
    "def speak_text(text):\n",
    "    \"\"\"\n",
    "    Uses pyttsx3 to convert text to speech.\n",
    "    \"\"\"\n",
    "    engine = pyttsx3.init()\n",
    "    engine.say(text)\n",
    "    engine.runAndWait()\n"
   ]
  },
  {
   "cell_type": "code",
   "execution_count": 6,
   "id": "4e83137b-0ada-45cf-adc0-9e3ec0988f4b",
   "metadata": {
    "ExecuteTime": {
     "end_time": "2024-06-13T14:55:40.742338Z",
     "start_time": "2024-06-13T14:48:31.775657Z"
    }
   },
   "outputs": [
    {
     "name": "stdout",
     "output_type": "stream",
     "text": [
      "Recording...\n",
      "Finished recording.\n",
      "Transcription: hey my name is Eric mwenda and I want you to help me with mental health issues\n",
      "ChatGPT Response: and how to take care of my mental well-being\n",
      "\n",
      "Hi Eric, \n",
      "\n",
      "Mental health is an important aspect of our overall well-being, and taking care of it is vital for leading a happy and fulfilling life. Here are a few things you can do to take care of your mental health: \n",
      "\n",
      "1. Seek professional help: If you are experiencing mental health issues, it is important to seek professional help from a therapist, psychiatrist or counselor. They can provide you with the necessary support, guidance and treatment to improve your mental well-being. \n",
      "\n",
      "2. Practice self-care: Take some time out of your day to focus on yourself and your needs. Engage in activities that you enjoy, such as reading, listening to music, or exercising. Prioritizing your own well-being can help reduce stress and improve your mood. \n",
      "\n",
      "3. Maintain a healthy lifestyle: Eating nutritious foods, getting enough sleep, and exercising regularly can help improve your mental health. Additionally, avoiding substances like alcohol and drugs can also help improve your overall well-being. \n",
      "\n",
      "4. Build a support system: Having a strong support system of friends and family can help you cope with any challenges or stressors that may arise. Make an effort to stay connected with your loved ones and share your thoughts and feelings with them. \n",
      "\n",
      "5. Manage stress: Stress is a common trigger for mental health issues. Learning how to manage stress through techniques like deep breathing, meditation, or journaling can help improve your mental well-being. \n",
      "\n",
      "Remember, taking care of your mental health is an ongoing process and it is important to be patient and kind to yourself. If you are struggling, don't hesitate to seek help and support. You are not alone, and there is always help available. Take care.\n",
      "Recording...\n",
      "Finished recording.\n",
      "Google Speech Recognition could not understand the audio\n",
      "Recording...\n",
      "Finished recording.\n",
      "Transcription: hello hello\n",
      "ChatGPT Response: test\n",
      "\n",
      "\n",
      "\n",
      "Testing line 2\n",
      "\n",
      "line 3\n",
      "Recording...\n",
      "Finished recording.\n",
      "Google Speech Recognition could not understand the audio\n",
      "Recording...\n",
      "Finished recording.\n",
      "Google Speech Recognition could not understand the audio\n",
      "Recording...\n"
     ]
    },
    {
     "ename": "KeyboardInterrupt",
     "evalue": "",
     "output_type": "error",
     "traceback": [
      "\u001b[1;31m---------------------------------------------------------------------------\u001b[0m",
      "\u001b[1;31mKeyboardInterrupt\u001b[0m                         Traceback (most recent call last)",
      "Cell \u001b[1;32mIn[6], line 28\u001b[0m\n\u001b[0;32m     25\u001b[0m         time\u001b[38;5;241m.\u001b[39msleep(\u001b[38;5;241m2\u001b[39m)\n\u001b[0;32m     27\u001b[0m \u001b[38;5;28;01mif\u001b[39;00m \u001b[38;5;18m__name__\u001b[39m \u001b[38;5;241m==\u001b[39m \u001b[38;5;124m\"\u001b[39m\u001b[38;5;124m__main__\u001b[39m\u001b[38;5;124m\"\u001b[39m:\n\u001b[1;32m---> 28\u001b[0m     \u001b[43mmain\u001b[49m\u001b[43m(\u001b[49m\u001b[43m)\u001b[49m\n",
      "Cell \u001b[1;32mIn[6], line 7\u001b[0m, in \u001b[0;36mmain\u001b[1;34m()\u001b[0m\n\u001b[0;32m      4\u001b[0m \u001b[38;5;28;01mwhile\u001b[39;00m \u001b[38;5;28;01mTrue\u001b[39;00m:\n\u001b[0;32m      5\u001b[0m     \u001b[38;5;66;03m# Record audio from the microphone\u001b[39;00m\n\u001b[0;32m      6\u001b[0m     filename \u001b[38;5;241m=\u001b[39m \u001b[38;5;124m\"\u001b[39m\u001b[38;5;124moutput.wav\u001b[39m\u001b[38;5;124m\"\u001b[39m\n\u001b[1;32m----> 7\u001b[0m     \u001b[43mrecord_audio\u001b[49m\u001b[43m(\u001b[49m\u001b[43mfilename\u001b[49m\u001b[43m,\u001b[49m\u001b[43m \u001b[49m\u001b[43mrecord_seconds\u001b[49m\u001b[38;5;241;43m=\u001b[39;49m\u001b[38;5;241;43m10\u001b[39;49m\u001b[43m,\u001b[49m\u001b[43m \u001b[49m\u001b[43mdevice\u001b[49m\u001b[38;5;241;43m=\u001b[39;49m\u001b[43mdevice_id\u001b[49m\u001b[43m)\u001b[49m\n\u001b[0;32m      9\u001b[0m     \u001b[38;5;66;03m# Transcribe the recorded audio\u001b[39;00m\n\u001b[0;32m     10\u001b[0m     text \u001b[38;5;241m=\u001b[39m transcribe_audio(filename)\n",
      "Cell \u001b[1;32mIn[4], line 7\u001b[0m, in \u001b[0;36mrecord_audio\u001b[1;34m(filename, record_seconds, rate, device)\u001b[0m\n\u001b[0;32m      5\u001b[0m \u001b[38;5;28mprint\u001b[39m(\u001b[38;5;124m\"\u001b[39m\u001b[38;5;124mRecording...\u001b[39m\u001b[38;5;124m\"\u001b[39m)\n\u001b[0;32m      6\u001b[0m myrecording \u001b[38;5;241m=\u001b[39m sd\u001b[38;5;241m.\u001b[39mrec(\u001b[38;5;28mint\u001b[39m(record_seconds \u001b[38;5;241m*\u001b[39m rate), samplerate\u001b[38;5;241m=\u001b[39mrate, channels\u001b[38;5;241m=\u001b[39m\u001b[38;5;241m1\u001b[39m, device\u001b[38;5;241m=\u001b[39mdevice)\n\u001b[1;32m----> 7\u001b[0m \u001b[43msd\u001b[49m\u001b[38;5;241;43m.\u001b[39;49m\u001b[43mwait\u001b[49m\u001b[43m(\u001b[49m\u001b[43m)\u001b[49m  \u001b[38;5;66;03m# Wait until recording is finished\u001b[39;00m\n\u001b[0;32m      8\u001b[0m \u001b[38;5;28mprint\u001b[39m(\u001b[38;5;124m\"\u001b[39m\u001b[38;5;124mFinished recording.\u001b[39m\u001b[38;5;124m\"\u001b[39m)\n\u001b[0;32m      9\u001b[0m wavio\u001b[38;5;241m.\u001b[39mwrite(filename, myrecording, rate, sampwidth\u001b[38;5;241m=\u001b[39m\u001b[38;5;241m2\u001b[39m)\n",
      "File \u001b[1;32mc:\\python39\\lib\\site-packages\\sounddevice.py:395\u001b[0m, in \u001b[0;36mwait\u001b[1;34m(ignore_errors)\u001b[0m\n\u001b[0;32m    379\u001b[0m \u001b[38;5;250m\u001b[39m\u001b[38;5;124;03m\"\"\"Wait for `play()`/`rec()`/`playrec()` to be finished.\u001b[39;00m\n\u001b[0;32m    380\u001b[0m \n\u001b[0;32m    381\u001b[0m \u001b[38;5;124;03mPlayback/recording can be stopped with a `KeyboardInterrupt`.\u001b[39;00m\n\u001b[1;32m   (...)\u001b[0m\n\u001b[0;32m    392\u001b[0m \n\u001b[0;32m    393\u001b[0m \u001b[38;5;124;03m\"\"\"\u001b[39;00m\n\u001b[0;32m    394\u001b[0m \u001b[38;5;28;01mif\u001b[39;00m _last_callback:\n\u001b[1;32m--> 395\u001b[0m     \u001b[38;5;28;01mreturn\u001b[39;00m \u001b[43m_last_callback\u001b[49m\u001b[38;5;241;43m.\u001b[39;49m\u001b[43mwait\u001b[49m\u001b[43m(\u001b[49m\u001b[43mignore_errors\u001b[49m\u001b[43m)\u001b[49m\n",
      "File \u001b[1;32mc:\\python39\\lib\\site-packages\\sounddevice.py:2624\u001b[0m, in \u001b[0;36m_CallbackContext.wait\u001b[1;34m(self, ignore_errors)\u001b[0m\n\u001b[0;32m   2618\u001b[0m \u001b[38;5;250m\u001b[39m\u001b[38;5;124;03m\"\"\"Wait for finished_callback.\u001b[39;00m\n\u001b[0;32m   2619\u001b[0m \n\u001b[0;32m   2620\u001b[0m \u001b[38;5;124;03mCan be interrupted with a KeyboardInterrupt.\u001b[39;00m\n\u001b[0;32m   2621\u001b[0m \n\u001b[0;32m   2622\u001b[0m \u001b[38;5;124;03m\"\"\"\u001b[39;00m\n\u001b[0;32m   2623\u001b[0m \u001b[38;5;28;01mtry\u001b[39;00m:\n\u001b[1;32m-> 2624\u001b[0m     \u001b[38;5;28;43mself\u001b[39;49m\u001b[38;5;241;43m.\u001b[39;49m\u001b[43mevent\u001b[49m\u001b[38;5;241;43m.\u001b[39;49m\u001b[43mwait\u001b[49m\u001b[43m(\u001b[49m\u001b[43m)\u001b[49m\n\u001b[0;32m   2625\u001b[0m \u001b[38;5;28;01mfinally\u001b[39;00m:\n\u001b[0;32m   2626\u001b[0m     \u001b[38;5;28mself\u001b[39m\u001b[38;5;241m.\u001b[39mstream\u001b[38;5;241m.\u001b[39mclose(ignore_errors)\n",
      "File \u001b[1;32mc:\\python39\\lib\\threading.py:574\u001b[0m, in \u001b[0;36mEvent.wait\u001b[1;34m(self, timeout)\u001b[0m\n\u001b[0;32m    572\u001b[0m signaled \u001b[38;5;241m=\u001b[39m \u001b[38;5;28mself\u001b[39m\u001b[38;5;241m.\u001b[39m_flag\n\u001b[0;32m    573\u001b[0m \u001b[38;5;28;01mif\u001b[39;00m \u001b[38;5;129;01mnot\u001b[39;00m signaled:\n\u001b[1;32m--> 574\u001b[0m     signaled \u001b[38;5;241m=\u001b[39m \u001b[38;5;28;43mself\u001b[39;49m\u001b[38;5;241;43m.\u001b[39;49m\u001b[43m_cond\u001b[49m\u001b[38;5;241;43m.\u001b[39;49m\u001b[43mwait\u001b[49m\u001b[43m(\u001b[49m\u001b[43mtimeout\u001b[49m\u001b[43m)\u001b[49m\n\u001b[0;32m    575\u001b[0m \u001b[38;5;28;01mreturn\u001b[39;00m signaled\n",
      "File \u001b[1;32mc:\\python39\\lib\\threading.py:312\u001b[0m, in \u001b[0;36mCondition.wait\u001b[1;34m(self, timeout)\u001b[0m\n\u001b[0;32m    310\u001b[0m \u001b[38;5;28;01mtry\u001b[39;00m:    \u001b[38;5;66;03m# restore state no matter what (e.g., KeyboardInterrupt)\u001b[39;00m\n\u001b[0;32m    311\u001b[0m     \u001b[38;5;28;01mif\u001b[39;00m timeout \u001b[38;5;129;01mis\u001b[39;00m \u001b[38;5;28;01mNone\u001b[39;00m:\n\u001b[1;32m--> 312\u001b[0m         \u001b[43mwaiter\u001b[49m\u001b[38;5;241;43m.\u001b[39;49m\u001b[43macquire\u001b[49m\u001b[43m(\u001b[49m\u001b[43m)\u001b[49m\n\u001b[0;32m    313\u001b[0m         gotit \u001b[38;5;241m=\u001b[39m \u001b[38;5;28;01mTrue\u001b[39;00m\n\u001b[0;32m    314\u001b[0m     \u001b[38;5;28;01melse\u001b[39;00m:\n",
      "\u001b[1;31mKeyboardInterrupt\u001b[0m: "
     ]
    }
   ],
   "source": [
    "def main():\n",
    "    device_id = 0  # Replace with the appropriate device ID from your list\n",
    "    \n",
    "    while True:\n",
    "        # Record audio from the microphone\n",
    "        filename = \"output.wav\"\n",
    "        record_audio(filename, record_seconds=10, device=device_id)\n",
    "        \n",
    "        # Transcribe the recorded audio\n",
    "        text = transcribe_audio(filename)\n",
    "        \n",
    "        if text:\n",
    "            # Check for exit condition\n",
    "            if text.lower() in [\"stop\", \"exit\", \"quit\"]:\n",
    "                print(\"Exiting the conversation.\")\n",
    "                break\n",
    "            \n",
    "            # Query ChatGPT API\n",
    "            response = query_chatgpt(text)\n",
    "            \n",
    "            # Speak out the response\n",
    "            speak_text(response)\n",
    "        \n",
    "        # Wait a bit before the next iteration\n",
    "        time.sleep(2)\n",
    "\n",
    "if __name__ == \"__main__\":\n",
    "    main()\n"
   ]
  },
  {
   "cell_type": "code",
   "execution_count": null,
   "id": "54fd8b38-bae0-46e2-804d-34423f8883b2",
   "metadata": {},
   "outputs": [],
   "source": []
  }
 ],
 "metadata": {
  "kernelspec": {
   "display_name": "Python 3 (ipykernel)",
   "language": "python",
   "name": "python3"
  },
  "language_info": {
   "codemirror_mode": {
    "name": "ipython",
    "version": 3
   },
   "file_extension": ".py",
   "mimetype": "text/x-python",
   "name": "python",
   "nbconvert_exporter": "python",
   "pygments_lexer": "ipython3",
   "version": "3.9.6"
  }
 },
 "nbformat": 4,
 "nbformat_minor": 5
}
