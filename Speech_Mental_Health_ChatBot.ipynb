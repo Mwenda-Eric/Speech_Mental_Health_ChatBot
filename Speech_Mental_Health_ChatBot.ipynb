{
 "cells": [
  {
   "cell_type": "code",
   "id": "165cc9b9-8f99-485d-b710-dd7288ca5bff",
   "metadata": {
    "ExecuteTime": {
     "end_time": "2024-06-13T21:17:56.042615Z",
     "start_time": "2024-06-13T21:17:55.011334Z"
    }
   },
   "source": [
    "import sounddevice as sd\n",
    "import wavio\n",
    "import speech_recognition as sr\n",
    "import openai\n",
    "import pyttsx3\n",
    "import time\n",
    "print(\"Imported Successfully\")"
   ],
   "outputs": [
    {
     "name": "stdout",
     "output_type": "stream",
     "text": [
      "Imported Successfully\n"
     ]
    }
   ],
   "execution_count": 1
  },
  {
   "cell_type": "code",
   "id": "5dbc9314-f329-43ef-a418-0d16e2c7123a",
   "metadata": {
    "ExecuteTime": {
     "end_time": "2024-06-13T21:18:00.488220Z",
     "start_time": "2024-06-13T21:18:00.465761Z"
    }
   },
   "source": [
    "openai.api_key = \"sk-proj-IekqBBzHEAuAg44yLmIrT3BlbkFJ9ghwTd1yJVqZgNOWTxQ2\"\n",
    "print(\"Key Setup\")"
   ],
   "outputs": [
    {
     "name": "stdout",
     "output_type": "stream",
     "text": [
      "Key Setup\n"
     ]
    }
   ],
   "execution_count": 2
  },
  {
   "cell_type": "code",
   "id": "d5a3c0eb20ffa317",
   "metadata": {
    "ExecuteTime": {
     "end_time": "2024-06-13T21:18:04.344157Z",
     "start_time": "2024-06-13T21:18:04.326200Z"
    }
   },
   "source": [
    "print(sd.query_devices())\n"
   ],
   "outputs": [
    {
     "name": "stdout",
     "output_type": "stream",
     "text": [
      "   0 Microsoft Sound Mapper - Input, MME (2 in, 0 out)\n",
      ">  1 Microphone (Conexant SmartAudio, MME (2 in, 0 out)\n",
      "   2 Headset (oraimo Theater 2), MME (2 in, 0 out)\n",
      "   3 Microsoft Sound Mapper - Output, MME (0 in, 2 out)\n",
      "<  4 Headphones (oraimo Theater 2), MME (0 in, 2 out)\n",
      "   5 Speakers (Conexant SmartAudio H, MME (0 in, 2 out)\n",
      "   6 Primary Sound Capture Driver, Windows DirectSound (2 in, 0 out)\n",
      "   7 Microphone (Conexant SmartAudio HD), Windows DirectSound (2 in, 0 out)\n",
      "   8 Headset (oraimo Theater 2), Windows DirectSound (2 in, 0 out)\n",
      "   9 Primary Sound Driver, Windows DirectSound (0 in, 2 out)\n",
      "  10 Headphones (oraimo Theater 2), Windows DirectSound (0 in, 2 out)\n",
      "  11 Speakers (Conexant SmartAudio HD), Windows DirectSound (0 in, 2 out)\n",
      "  12 Headphones (oraimo Theater 2), Windows WASAPI (0 in, 2 out)\n",
      "  13 Speakers (Conexant SmartAudio HD), Windows WASAPI (0 in, 2 out)\n",
      "  14 Headset (oraimo Theater 2), Windows WASAPI (1 in, 0 out)\n",
      "  15 Microphone (Conexant SmartAudio HD), Windows WASAPI (2 in, 0 out)\n",
      "  16 Output (@System32\\drivers\\bthhfenum.sys,#4;%1 Hands-Free HF Audio%0\r\n",
      ";(iPhone)), Windows WDM-KS (0 in, 1 out)\n",
      "  17 Input (@System32\\drivers\\bthhfenum.sys,#4;%1 Hands-Free HF Audio%0\r\n",
      ";(iPhone)), Windows WDM-KS (1 in, 0 out)\n",
      "  18 Output (@System32\\drivers\\bthhfenum.sys,#4;%1 Hands-Free HF Audio%0\r\n",
      ";(Adrian's A50)), Windows WDM-KS (0 in, 1 out)\n",
      "  19 Input (@System32\\drivers\\bthhfenum.sys,#4;%1 Hands-Free HF Audio%0\r\n",
      ";(Adrian's A50)), Windows WDM-KS (1 in, 0 out)\n",
      "  20 Headphones (), Windows WDM-KS (0 in, 2 out)\n",
      "  21 Headphones (), Windows WDM-KS (0 in, 2 out)\n",
      "  22 Telephone (), Windows WDM-KS (0 in, 2 out)\n",
      "  23 Speakers (Conexant HD Audio output), Windows WDM-KS (0 in, 2 out)\n",
      "  24 Microphone (Conexant HD Audio capture), Windows WDM-KS (2 in, 0 out)\n",
      "  25 Headset (@System32\\drivers\\bthhfenum.sys,#2;%1 Hands-Free%0\r\n",
      ";(I11-TWS)), Windows WDM-KS (0 in, 1 out)\n",
      "  26 Headset (@System32\\drivers\\bthhfenum.sys,#2;%1 Hands-Free%0\r\n",
      ";(I11-TWS)), Windows WDM-KS (1 in, 0 out)\n",
      "  27 Input (), Windows WDM-KS (2 in, 0 out)\n",
      "  28 Headphones (), Windows WDM-KS (0 in, 2 out)\n",
      "  29 Headset (@System32\\drivers\\bthhfenum.sys,#2;%1 Hands-Free%0\r\n",
      ";(oraimo Theater 2)), Windows WDM-KS (0 in, 1 out)\n",
      "  30 Headset (@System32\\drivers\\bthhfenum.sys,#2;%1 Hands-Free%0\r\n",
      ";(oraimo Theater 2)), Windows WDM-KS (1 in, 0 out)\n",
      "  31 Input (), Windows WDM-KS (2 in, 0 out)\n",
      "  32 Output (@System32\\drivers\\bthhfenum.sys,#4;%1 Hands-Free HF Audio%0\r\n",
      ";(X-TIGI_TG3308)), Windows WDM-KS (0 in, 1 out)\n",
      "  33 Input (@System32\\drivers\\bthhfenum.sys,#4;%1 Hands-Free HF Audio%0\r\n",
      ";(X-TIGI_TG3308)), Windows WDM-KS (1 in, 0 out)\n"
     ]
    }
   ],
   "execution_count": 3
  },
  {
   "cell_type": "code",
   "execution_count": 4,
   "id": "b7740d3e-9330-4ad5-b11d-bbd17167c0af",
   "metadata": {
    "ExecuteTime": {
     "end_time": "2024-06-13T14:48:29.338846Z",
     "start_time": "2024-06-13T14:48:29.307605Z"
    }
   },
   "outputs": [],
   "source": [
    "def record_audio(filename, record_seconds=10, rate=44100, device=0):\n",
    "    \"\"\"\n",
    "    Records audio from the microphone and saves it to a WAV file.\n",
    "    \"\"\"\n",
    "    print(\"Recording...\")\n",
    "    myrecording = sd.rec(int(record_seconds * rate), samplerate=rate, channels=1, device=device)\n",
    "    sd.wait()  # Wait until recording is finished\n",
    "    print(\"Finished recording.\")\n",
    "    wavio.write(filename, myrecording, rate, sampwidth=2)\n",
    "\n",
    "def transcribe_audio(filename):\n",
    "    \"\"\"\n",
    "    Transcribes the given audio file using Google's speech recognition.\n",
    "    \"\"\"\n",
    "    recognizer = sr.Recognizer()\n",
    "    audio_file = sr.AudioFile(filename)\n",
    "\n",
    "    with audio_file as source:\n",
    "        audio_data = recognizer.record(source)\n",
    "\n",
    "    try:\n",
    "        text = recognizer.recognize_google(audio_data)\n",
    "        print(\"Transcription: \" + text)\n",
    "        return text\n",
    "    except sr.UnknownValueError:\n",
    "        print(\"Google Speech Recognition could not understand the audio\")\n",
    "        return None\n",
    "    except sr.RequestError as e:\n",
    "        print(f\"Could not request results from Google Speech Recognition service; {e}\")\n",
    "        return None\n",
    "\n",
    "def query_chatgpt(prompt):\n",
    "    \"\"\"\n",
    "    Queries the OpenAI ChatGPT API with the provided prompt.\n",
    "    \"\"\"\n",
    "    response = openai.Completion.create(\n",
    "        engine=\"gpt-3.5-turbo-instruct\",  # or \"text-davinci-003\" based on your available engines\n",
    "        prompt=prompt,\n",
    "        max_tokens=1500\n",
    "    )\n",
    "    message = response.choices[0].text.strip()\n",
    "    print(\"ChatGPT Response: \" + message)\n",
    "    return message\n",
    "\n",
    "def speak_text(text):\n",
    "    \"\"\"\n",
    "    Uses pyttsx3 to convert text to speech.\n",
    "    \"\"\"\n",
    "    engine = pyttsx3.init()\n",
    "    engine.say(text)\n",
    "    engine.runAndWait()\n"
   ]
  },
  {
   "cell_type": "code",
   "execution_count": 6,
   "id": "4e83137b-0ada-45cf-adc0-9e3ec0988f4b",
   "metadata": {
    "ExecuteTime": {
     "end_time": "2024-06-13T14:55:40.742338Z",
     "start_time": "2024-06-13T14:48:31.775657Z"
    }
   },
   "outputs": [
    {
     "name": "stdout",
     "output_type": "stream",
     "text": [
      "Recording...\n",
      "Finished recording.\n",
      "Transcription: hey my name is Eric mwenda and I want you to help me with mental health issues\n",
      "ChatGPT Response: and how to take care of my mental well-being\n",
      "\n",
      "Hi Eric, \n",
      "\n",
      "Mental health is an important aspect of our overall well-being, and taking care of it is vital for leading a happy and fulfilling life. Here are a few things you can do to take care of your mental health: \n",
      "\n",
      "1. Seek professional help: If you are experiencing mental health issues, it is important to seek professional help from a therapist, psychiatrist or counselor. They can provide you with the necessary support, guidance and treatment to improve your mental well-being. \n",
      "\n",
      "2. Practice self-care: Take some time out of your day to focus on yourself and your needs. Engage in activities that you enjoy, such as reading, listening to music, or exercising. Prioritizing your own well-being can help reduce stress and improve your mood. \n",
      "\n",
      "3. Maintain a healthy lifestyle: Eating nutritious foods, getting enough sleep, and exercising regularly can help improve your mental health. Additionally, avoiding substances like alcohol and drugs can also help improve your overall well-being. \n",
      "\n",
      "4. Build a support system: Having a strong support system of friends and family can help you cope with any challenges or stressors that may arise. Make an effort to stay connected with your loved ones and share your thoughts and feelings with them. \n",
      "\n",
      "5. Manage stress: Stress is a common trigger for mental health issues. Learning how to manage stress through techniques like deep breathing, meditation, or journaling can help improve your mental well-being. \n",
      "\n",
      "Remember, taking care of your mental health is an ongoing process and it is important to be patient and kind to yourself. If you are struggling, don't hesitate to seek help and support. You are not alone, and there is always help available. Take care.\n",
      "Recording...\n",
      "Finished recording.\n",
      "Google Speech Recognition could not understand the audio\n",
      "Recording...\n",
      "Finished recording.\n",
      "Transcription: hello hello\n",
      "ChatGPT Response: test\n",
      "\n",
      "\n",
      "\n",
      "Testing line 2\n",
      "\n",
      "line 3\n",
      "Recording...\n",
      "Finished recording.\n",
      "Google Speech Recognition could not understand the audio\n",
      "Recording...\n",
      "Finished recording.\n",
      "Google Speech Recognition could not understand the audio\n",
      "Recording...\n"
     ]
    },
    {
     "ename": "KeyboardInterrupt",
     "evalue": "",
     "output_type": "error",
     "traceback": [
      "\u001B[1;31m---------------------------------------------------------------------------\u001B[0m",
      "\u001B[1;31mKeyboardInterrupt\u001B[0m                         Traceback (most recent call last)",
      "Cell \u001B[1;32mIn[6], line 28\u001B[0m\n\u001B[0;32m     25\u001B[0m         time\u001B[38;5;241m.\u001B[39msleep(\u001B[38;5;241m2\u001B[39m)\n\u001B[0;32m     27\u001B[0m \u001B[38;5;28;01mif\u001B[39;00m \u001B[38;5;18m__name__\u001B[39m \u001B[38;5;241m==\u001B[39m \u001B[38;5;124m\"\u001B[39m\u001B[38;5;124m__main__\u001B[39m\u001B[38;5;124m\"\u001B[39m:\n\u001B[1;32m---> 28\u001B[0m     \u001B[43mmain\u001B[49m\u001B[43m(\u001B[49m\u001B[43m)\u001B[49m\n",
      "Cell \u001B[1;32mIn[6], line 7\u001B[0m, in \u001B[0;36mmain\u001B[1;34m()\u001B[0m\n\u001B[0;32m      4\u001B[0m \u001B[38;5;28;01mwhile\u001B[39;00m \u001B[38;5;28;01mTrue\u001B[39;00m:\n\u001B[0;32m      5\u001B[0m     \u001B[38;5;66;03m# Record audio from the microphone\u001B[39;00m\n\u001B[0;32m      6\u001B[0m     filename \u001B[38;5;241m=\u001B[39m \u001B[38;5;124m\"\u001B[39m\u001B[38;5;124moutput.wav\u001B[39m\u001B[38;5;124m\"\u001B[39m\n\u001B[1;32m----> 7\u001B[0m     \u001B[43mrecord_audio\u001B[49m\u001B[43m(\u001B[49m\u001B[43mfilename\u001B[49m\u001B[43m,\u001B[49m\u001B[43m \u001B[49m\u001B[43mrecord_seconds\u001B[49m\u001B[38;5;241;43m=\u001B[39;49m\u001B[38;5;241;43m10\u001B[39;49m\u001B[43m,\u001B[49m\u001B[43m \u001B[49m\u001B[43mdevice\u001B[49m\u001B[38;5;241;43m=\u001B[39;49m\u001B[43mdevice_id\u001B[49m\u001B[43m)\u001B[49m\n\u001B[0;32m      9\u001B[0m     \u001B[38;5;66;03m# Transcribe the recorded audio\u001B[39;00m\n\u001B[0;32m     10\u001B[0m     text \u001B[38;5;241m=\u001B[39m transcribe_audio(filename)\n",
      "Cell \u001B[1;32mIn[4], line 7\u001B[0m, in \u001B[0;36mrecord_audio\u001B[1;34m(filename, record_seconds, rate, device)\u001B[0m\n\u001B[0;32m      5\u001B[0m \u001B[38;5;28mprint\u001B[39m(\u001B[38;5;124m\"\u001B[39m\u001B[38;5;124mRecording...\u001B[39m\u001B[38;5;124m\"\u001B[39m)\n\u001B[0;32m      6\u001B[0m myrecording \u001B[38;5;241m=\u001B[39m sd\u001B[38;5;241m.\u001B[39mrec(\u001B[38;5;28mint\u001B[39m(record_seconds \u001B[38;5;241m*\u001B[39m rate), samplerate\u001B[38;5;241m=\u001B[39mrate, channels\u001B[38;5;241m=\u001B[39m\u001B[38;5;241m1\u001B[39m, device\u001B[38;5;241m=\u001B[39mdevice)\n\u001B[1;32m----> 7\u001B[0m \u001B[43msd\u001B[49m\u001B[38;5;241;43m.\u001B[39;49m\u001B[43mwait\u001B[49m\u001B[43m(\u001B[49m\u001B[43m)\u001B[49m  \u001B[38;5;66;03m# Wait until recording is finished\u001B[39;00m\n\u001B[0;32m      8\u001B[0m \u001B[38;5;28mprint\u001B[39m(\u001B[38;5;124m\"\u001B[39m\u001B[38;5;124mFinished recording.\u001B[39m\u001B[38;5;124m\"\u001B[39m)\n\u001B[0;32m      9\u001B[0m wavio\u001B[38;5;241m.\u001B[39mwrite(filename, myrecording, rate, sampwidth\u001B[38;5;241m=\u001B[39m\u001B[38;5;241m2\u001B[39m)\n",
      "File \u001B[1;32mc:\\python39\\lib\\site-packages\\sounddevice.py:395\u001B[0m, in \u001B[0;36mwait\u001B[1;34m(ignore_errors)\u001B[0m\n\u001B[0;32m    379\u001B[0m \u001B[38;5;250m\u001B[39m\u001B[38;5;124;03m\"\"\"Wait for `play()`/`rec()`/`playrec()` to be finished.\u001B[39;00m\n\u001B[0;32m    380\u001B[0m \n\u001B[0;32m    381\u001B[0m \u001B[38;5;124;03mPlayback/recording can be stopped with a `KeyboardInterrupt`.\u001B[39;00m\n\u001B[1;32m   (...)\u001B[0m\n\u001B[0;32m    392\u001B[0m \n\u001B[0;32m    393\u001B[0m \u001B[38;5;124;03m\"\"\"\u001B[39;00m\n\u001B[0;32m    394\u001B[0m \u001B[38;5;28;01mif\u001B[39;00m _last_callback:\n\u001B[1;32m--> 395\u001B[0m     \u001B[38;5;28;01mreturn\u001B[39;00m \u001B[43m_last_callback\u001B[49m\u001B[38;5;241;43m.\u001B[39;49m\u001B[43mwait\u001B[49m\u001B[43m(\u001B[49m\u001B[43mignore_errors\u001B[49m\u001B[43m)\u001B[49m\n",
      "File \u001B[1;32mc:\\python39\\lib\\site-packages\\sounddevice.py:2624\u001B[0m, in \u001B[0;36m_CallbackContext.wait\u001B[1;34m(self, ignore_errors)\u001B[0m\n\u001B[0;32m   2618\u001B[0m \u001B[38;5;250m\u001B[39m\u001B[38;5;124;03m\"\"\"Wait for finished_callback.\u001B[39;00m\n\u001B[0;32m   2619\u001B[0m \n\u001B[0;32m   2620\u001B[0m \u001B[38;5;124;03mCan be interrupted with a KeyboardInterrupt.\u001B[39;00m\n\u001B[0;32m   2621\u001B[0m \n\u001B[0;32m   2622\u001B[0m \u001B[38;5;124;03m\"\"\"\u001B[39;00m\n\u001B[0;32m   2623\u001B[0m \u001B[38;5;28;01mtry\u001B[39;00m:\n\u001B[1;32m-> 2624\u001B[0m     \u001B[38;5;28;43mself\u001B[39;49m\u001B[38;5;241;43m.\u001B[39;49m\u001B[43mevent\u001B[49m\u001B[38;5;241;43m.\u001B[39;49m\u001B[43mwait\u001B[49m\u001B[43m(\u001B[49m\u001B[43m)\u001B[49m\n\u001B[0;32m   2625\u001B[0m \u001B[38;5;28;01mfinally\u001B[39;00m:\n\u001B[0;32m   2626\u001B[0m     \u001B[38;5;28mself\u001B[39m\u001B[38;5;241m.\u001B[39mstream\u001B[38;5;241m.\u001B[39mclose(ignore_errors)\n",
      "File \u001B[1;32mc:\\python39\\lib\\threading.py:574\u001B[0m, in \u001B[0;36mEvent.wait\u001B[1;34m(self, timeout)\u001B[0m\n\u001B[0;32m    572\u001B[0m signaled \u001B[38;5;241m=\u001B[39m \u001B[38;5;28mself\u001B[39m\u001B[38;5;241m.\u001B[39m_flag\n\u001B[0;32m    573\u001B[0m \u001B[38;5;28;01mif\u001B[39;00m \u001B[38;5;129;01mnot\u001B[39;00m signaled:\n\u001B[1;32m--> 574\u001B[0m     signaled \u001B[38;5;241m=\u001B[39m \u001B[38;5;28;43mself\u001B[39;49m\u001B[38;5;241;43m.\u001B[39;49m\u001B[43m_cond\u001B[49m\u001B[38;5;241;43m.\u001B[39;49m\u001B[43mwait\u001B[49m\u001B[43m(\u001B[49m\u001B[43mtimeout\u001B[49m\u001B[43m)\u001B[49m\n\u001B[0;32m    575\u001B[0m \u001B[38;5;28;01mreturn\u001B[39;00m signaled\n",
      "File \u001B[1;32mc:\\python39\\lib\\threading.py:312\u001B[0m, in \u001B[0;36mCondition.wait\u001B[1;34m(self, timeout)\u001B[0m\n\u001B[0;32m    310\u001B[0m \u001B[38;5;28;01mtry\u001B[39;00m:    \u001B[38;5;66;03m# restore state no matter what (e.g., KeyboardInterrupt)\u001B[39;00m\n\u001B[0;32m    311\u001B[0m     \u001B[38;5;28;01mif\u001B[39;00m timeout \u001B[38;5;129;01mis\u001B[39;00m \u001B[38;5;28;01mNone\u001B[39;00m:\n\u001B[1;32m--> 312\u001B[0m         \u001B[43mwaiter\u001B[49m\u001B[38;5;241;43m.\u001B[39;49m\u001B[43macquire\u001B[49m\u001B[43m(\u001B[49m\u001B[43m)\u001B[49m\n\u001B[0;32m    313\u001B[0m         gotit \u001B[38;5;241m=\u001B[39m \u001B[38;5;28;01mTrue\u001B[39;00m\n\u001B[0;32m    314\u001B[0m     \u001B[38;5;28;01melse\u001B[39;00m:\n",
      "\u001B[1;31mKeyboardInterrupt\u001B[0m: "
     ]
    }
   ],
   "source": [
    "def main():\n",
    "    device_id = 0  # Replace with the appropriate device ID from your list\n",
    "    \n",
    "    while True:\n",
    "        # Record audio from the microphone\n",
    "        filename = \"output.wav\"\n",
    "        record_audio(filename, record_seconds=10, device=device_id)\n",
    "        \n",
    "        # Transcribe the recorded audio\n",
    "        text = transcribe_audio(filename)\n",
    "        \n",
    "        if text:\n",
    "            # Check for exit condition\n",
    "            if text.lower() in [\"stop\", \"exit\", \"quit\"]:\n",
    "                print(\"Exiting the conversation.\")\n",
    "                break\n",
    "            \n",
    "            # Query ChatGPT API\n",
    "            response = query_chatgpt(text)\n",
    "            \n",
    "            # Speak out the response\n",
    "            speak_text(response)\n",
    "        \n",
    "        # Wait a bit before the next iteration\n",
    "        time.sleep(2)\n",
    "\n",
    "if __name__ == \"__main__\":\n",
    "    main()\n"
   ]
  },
  {
   "cell_type": "code",
   "execution_count": null,
   "id": "54fd8b38-bae0-46e2-804d-34423f8883b2",
   "metadata": {},
   "outputs": [],
   "source": []
  }
 ],
 "metadata": {
  "kernelspec": {
   "display_name": "Python 3 (ipykernel)",
   "language": "python",
   "name": "python3"
  },
  "language_info": {
   "codemirror_mode": {
    "name": "ipython",
    "version": 3
   },
   "file_extension": ".py",
   "mimetype": "text/x-python",
   "name": "python",
   "nbconvert_exporter": "python",
   "pygments_lexer": "ipython3",
   "version": "3.9.6"
  }
 },
 "nbformat": 4,
 "nbformat_minor": 5
}
